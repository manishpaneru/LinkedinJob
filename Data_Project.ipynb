{
 "cells": [
  {
   "cell_type": "code",
   "execution_count": null,
   "id": "32ecb6f3-92bd-4201-9147-46e8b8058402",
   "metadata": {},
   "outputs": [],
   "source": [
    "import pandas as pd \n",
    "import numpy as np \n",
    "import matplotlib.pyplot as plt \n",
    "from collections import Counter\n",
    "import re"
   ]
  },
  {
   "cell_type": "code",
   "execution_count": null,
   "id": "28c8635a-5be0-419f-82b0-6f59f98d7378",
   "metadata": {},
   "outputs": [],
   "source": [
    "df = pd.read_csv('postings.csv')\n",
    "df.head()"
   ]
  },
  {
   "cell_type": "code",
   "execution_count": null,
   "id": "77c8dfdb-7626-4425-8bbf-3740f74379f7",
   "metadata": {},
   "outputs": [],
   "source": [
    "#First let's see some basic review of the data \n",
    "df.describe()"
   ]
  },
  {
   "cell_type": "code",
   "execution_count": null,
   "id": "565b24b1-c50d-4348-bf36-1f551e204478",
   "metadata": {},
   "outputs": [],
   "source": [
    "# Now let's see some basic info of the data that we have \n",
    "df.info()"
   ]
  },
  {
   "cell_type": "code",
   "execution_count": null,
   "id": "d2a6d418-1f41-46af-a286-8c9e35947e50",
   "metadata": {},
   "outputs": [],
   "source": [
    "# The primary objective of the data cleaning of this project is to clean the data so that any person who uses this dataset after \n",
    "# it has been cleaned , it would be easier for that person to know about the data engineer jobs \n",
    "# First data cleaning project , Here are the 20 data cleaning steps we are gonna take to make sure the data is tidy to Explore \n",
    "# 1. Drop rows with missing essential values\n",
    "# 2. Drop duplicates\n",
    "# 3. Convert to datetime\n",
    "# 4. Extract year\n",
    "# 5. Fill missing categorical values\n",
    "# 6. Fill missing categorical values\n",
    "# 7. Strip whitespaces\n",
    "# 8. Convert to lowercase\n",
    "# 9. Standardize country names\n",
    "# 10. Handle 'remote' locations\n",
    "# 11. Function to standardize text\n",
    "# 12. Apply text standardization\n",
    "# 13. Split skills into lists\n",
    "# 14. Explode list columns\n",
    "# 15. Aggregate exploded data\n",
    "# 16. Reset index\n",
    "# 17. Rename aggregated column\n",
    "# 18. Drop original list column\n",
    "# 19. Merge aggregated data\n",
    "# 20. Display cleaned data"
   ]
  },
  {
   "cell_type": "code",
   "execution_count": null,
   "id": "2422d1f5-6e02-4ed8-8bb2-c6fa3ceefc8a",
   "metadata": {},
   "outputs": [],
   "source": [
    "# 1. Drop rows with missing essential values\n",
    "df.dropna(subset=['job_title', 'company', 'job_location'], inplace=True)"
   ]
  },
  {
   "cell_type": "code",
   "execution_count": null,
   "id": "5e3c24cb-b144-47b1-ae02-1ceacda74dcb",
   "metadata": {},
   "outputs": [],
   "source": [
    "# 2. Drop duplicates\n",
    "df.drop_duplicates(inplace=True)"
   ]
  },
  {
   "cell_type": "code",
   "execution_count": null,
   "id": "781ea0a8-8826-4516-afc0-5778f6c4e60a",
   "metadata": {},
   "outputs": [],
   "source": [
    "# 3. Convert to datetime\n",
    "df['first_seen'] = pd.to_datetime(df['first_seen'])"
   ]
  },
  {
   "cell_type": "code",
   "execution_count": null,
   "id": "633c69d1-0875-4367-8b88-f34fc55fc31a",
   "metadata": {},
   "outputs": [],
   "source": [
    "# 4. Extract year\n",
    "df['year'] = df['first_seen'].dt.year"
   ]
  },
  {
   "cell_type": "code",
   "execution_count": null,
   "id": "5b30f909-6d01-42b0-b1c5-8a23c56e53a8",
   "metadata": {},
   "outputs": [],
   "source": [
    "# 5. Fill missing categorical values\n",
    "df['job level'] = df['job level'].fillna('Not Specified')"
   ]
  },
  {
   "cell_type": "code",
   "execution_count": null,
   "id": "5a9b188a-e422-498b-9c8b-be884fd8f062",
   "metadata": {},
   "outputs": [],
   "source": [
    "# 6. Fill missing categorical values\n",
    "df['job_type'] = df['job_type'].fillna('Not Specified')"
   ]
  },
  {
   "cell_type": "code",
   "execution_count": null,
   "id": "92b5f43e-4e1e-4a47-a0aa-a98a915821a8",
   "metadata": {},
   "outputs": [],
   "source": [
    "# 7. Strip whitespaces\n",
    "df = df.apply(lambda x: x.str.strip() if x.dtype == \"object\" else x)"
   ]
  },
  {
   "cell_type": "code",
   "execution_count": null,
   "id": "54b90cb5-e99a-41e6-9436-aa8260f28a69",
   "metadata": {},
   "outputs": [],
   "source": [
    "# 8. Convert to lowercase\n",
    "df['job_title'] = df['job_title'].str.lower()"
   ]
  },
  {
   "cell_type": "code",
   "execution_count": null,
   "id": "7a796b00-3879-408b-ae32-55925cab074d",
   "metadata": {},
   "outputs": [],
   "source": [
    "# 9. Standardize country names\n",
    "df['search_country'] = df['search_country'].replace('united states of america', 'usa')"
   ]
  },
  {
   "cell_type": "code",
   "execution_count": null,
   "id": "0ec5e947-fefc-4c0d-b4ec-58bb7cc15dcb",
   "metadata": {},
   "outputs": [],
   "source": [
    "# 10. Handle 'remote' locations\n",
    "df['job_location'] = df['job_location'].replace('remote', 'not specified')"
   ]
  },
  {
   "cell_type": "code",
   "execution_count": null,
   "id": "e704bbe3-6651-4d77-bad6-eccdd95df4ae",
   "metadata": {},
   "outputs": [],
   "source": [
    "# 11. Function to standardize text\n",
    "def standardize_text(text):\n",
    "    if isinstance(text, str):\n",
    "        text = text.lower()\n",
    "        text = re.sub(r'[^\\w\\s]', '', text)\n",
    "        text = re.sub(r'\\s+', ' ', text)\n",
    "        return text\n",
    "    else:\n",
    "        return text"
   ]
  },
  {
   "cell_type": "code",
   "execution_count": null,
   "id": "5756033f-f25b-4924-94dd-4a005df5c3c0",
   "metadata": {},
   "outputs": [],
   "source": [
    "# 12. Apply text standardization\n",
    "df['job_summary'] = df['job_summary'].astype(str).apply(standardize_text)"
   ]
  },
  {
   "cell_type": "code",
   "execution_count": null,
   "id": "8bafbbfa-1a15-423b-be70-5a65572fe757",
   "metadata": {},
   "outputs": [],
   "source": [
    "# 13. Split skills into lists\n",
    "df['job_skills'] = df['job_skills'].str.split(', ')"
   ]
  },
  {
   "cell_type": "code",
   "execution_count": null,
   "id": "3104fd83-b4ff-4468-a394-d6e0b59b10ca",
   "metadata": {},
   "outputs": [],
   "source": [
    "# 14. Explode list columns\n",
    "df_exploded = df.explode('job_skills')"
   ]
  },
  {
   "cell_type": "code",
   "execution_count": null,
   "id": "80d110ee-3934-4471-b10b-f291546bdccc",
   "metadata": {},
   "outputs": [],
   "source": [
    "# 15. Aggregate exploded data\n",
    "df_agg = df_exploded.groupby([col for col in df_exploded.columns if col != 'job_skills'], as_index=False)['job_skills'].agg(list)"
   ]
  },
  {
   "cell_type": "code",
   "execution_count": null,
   "id": "f5f28d4c-ee66-44ac-8114-be26918d60d8",
   "metadata": {},
   "outputs": [],
   "source": [
    "# 16. Reset index\n",
    "df_agg = df_agg.reset_index(drop=True)"
   ]
  },
  {
   "cell_type": "code",
   "execution_count": null,
   "id": "b3909ac1-5e12-4409-89be-299ad8bf143d",
   "metadata": {},
   "outputs": [],
   "source": [
    "# 17. Rename aggregated column\n",
    "df_agg = df_agg.rename(columns={'job_skills': 'job_skills_agg'})"
   ]
  },
  {
   "cell_type": "code",
   "execution_count": null,
   "id": "6f19ea37-c9fd-4674-9d05-5ccedc573b41",
   "metadata": {},
   "outputs": [],
   "source": [
    "# 18. Drop original list column\n",
    "df = df.drop('job_skills', axis=1)"
   ]
  },
  {
   "cell_type": "code",
   "execution_count": null,
   "id": "0909e2dc-7e4c-458c-84d3-c7bcc81c42cd",
   "metadata": {},
   "outputs": [],
   "source": [
    "# 19. Merge aggregated data\n",
    "df_cleaned = df.merge(df_agg, on=[col for col in df.columns if col != 'job_skills'], how='left')"
   ]
  },
  {
   "cell_type": "code",
   "execution_count": null,
   "id": "91841335-3521-4dcf-9e1d-6340c0d07332",
   "metadata": {},
   "outputs": [],
   "source": [
    "# 20. Display cleaned data\n",
    "print(df_cleaned.head().to_markdown(index=False, numalign=\"left\", stralign=\"left\"))"
   ]
  },
  {
   "cell_type": "code",
   "execution_count": null,
   "id": "e3fcef47-eab6-46ea-b92b-4ea4bac856da",
   "metadata": {},
   "outputs": [],
   "source": [
    "### Now that we have completed data cleaning , we can now simply move on to EDA and here are some things we are gonna do with the code\n",
    "# Here are what we are gonna do in the EDA phase of this project and what are the results of all the visualization , what each visualization \n",
    "# shows and what findings did we find from the project\n",
    "# Calculate the number of job postings per year & Display the results in a table\n",
    "# Visualize the distribution of job postings over time using a line plot\n",
    "# Identify the top 10 companies with the most job postings & Display the results in a table\n",
    "# Visualize the top 10 companies using a bar plot\n",
    "# Identify the top 10 job locations with the most job postings & Display the results in a table\n",
    "# Visualize the top 10 job locations using a bar plot\n",
    "# Show the distribution of `job_type` using a pie chart\n",
    "# Show the distribution of `job level` using a pie chart\n",
    "# This is what we are going to do in the dataset, \n",
    "# Skill Analysis\n",
    "# Calculate skill frequency and get top 20\n",
    "# Bar plot of top 20 skills\n",
    "# This bar chart illustrates the top 20 most sought-after skills in the dataset, providing insights into the key qualifications employers are seeking.\n",
    "# Job Title Analysis\n",
    "# Get top 20 job titles\n",
    "# Bar plot of top 20 job titles\n",
    "# This bar chart displays the 20 most common job titles, shedding light on the prevalent roles in the job market.\n",
    "# Company and Job Title Analysis\n",
    "# Get top 20 company-job title combinations\n",
    "# Bar plot of top 20 company-job title combinations\n",
    "# This bar chart reveals the top 20 combinations of companies and job titles, indicating which companies are hiring for specific roles.\n",
    "# Job Location Analysis (Excluding 'Not Specified')\n",
    "# Filter out 'not specified' locations\n",
    "# Get top 20 job locations\n",
    "# Bar plot of top 20 job locations (excluding 'not specified')\n",
    "# This bar chart presents the 20 most common job locations, excluding those that are not specified, offering insights into geographic hiring trends.\n",
    "# Job Location Analysis (USA Only)\n",
    "# Filter for USA jobs\n",
    "# Get top 20 job locations in USA\n",
    "# Bar plot of top 20 job locations in USA\n",
    "# This bar chart focuses on the 20 most frequent job locations within the USA, providing a more targeted view of hiring trends in the country.\n",
    "# Number of Skills per Job Analysis\n",
    "# Calculate number of skills per job\n",
    "# Histogram and box plot of number of skills\n",
    "# The histogram and box plot illustrate the distribution of the number of skills required per job, revealing the range and central tendency of skill requirements.\n"
   ]
  },
  {
   "cell_type": "code",
   "execution_count": null,
   "id": "d0f37783-05ed-4991-98c9-eaef2ba6ad21",
   "metadata": {},
   "outputs": [],
   "source": [
    "# Calculate the number of job postings per year\n",
    "job_postings_per_year = df_cleaned['year'].value_counts().reset_index()\n",
    "job_postings_per_year.columns = ['Year', 'Number of Job Postings']\n"
   ]
  },
  {
   "cell_type": "code",
   "execution_count": null,
   "id": "58e71ebb-9c6d-4018-b086-f8727cd4cbfa",
   "metadata": {},
   "outputs": [],
   "source": [
    "\n",
    "# Display the results in a table\n",
    "print(\"Number of Job Postings Per Year:\")\n",
    "print(job_postings_per_year.to_markdown(index=False, numalign=\"left\", stralign=\"left\"))\n",
    "\n"
   ]
  },
  {
   "cell_type": "code",
   "execution_count": null,
   "id": "d8954f32-c4ac-43ec-a279-8b257c1a2d64",
   "metadata": {},
   "outputs": [],
   "source": [
    "# Visualize the distribution of job postings over time using a line plot\n",
    "plt.figure(figsize=(10, 6))\n",
    "plt.plot(job_postings_per_year['Year'], job_postings_per_year['Number of Job Postings'], marker='o', linestyle='-')\n",
    "plt.title('Job Postings Over Time')\n",
    "plt.xlabel('Year')\n",
    "plt.ylabel('Number of Job Postings')\n",
    "plt.grid(axis='y', linestyle='--')\n",
    "plt.xticks(job_postings_per_year['Year'], rotation=45)\n",
    "plt.show()\n"
   ]
  },
  {
   "cell_type": "code",
   "execution_count": null,
   "id": "ab7054fc-b7b3-447a-a563-f94028db9bb9",
   "metadata": {},
   "outputs": [],
   "source": [
    "\n",
    "# Identify the top 10 companies with the most job postings\n",
    "top_companies = df_cleaned['company'].value_counts().head(10).reset_index()\n",
    "top_companies.columns = ['Company', 'Number of Job Postings']\n"
   ]
  },
  {
   "cell_type": "code",
   "execution_count": null,
   "id": "a30c8a8c-19c4-4a39-8a27-2f33f121153f",
   "metadata": {},
   "outputs": [],
   "source": [
    "\n",
    "# Display the results in a table\n",
    "print(\"\\nTop 10 Companies with the Most Job Postings:\")\n",
    "print(top_companies.to_markdown(index=False, numalign=\"left\", stralign=\"left\"))\n",
    "\n"
   ]
  },
  {
   "cell_type": "code",
   "execution_count": null,
   "id": "c41d09ca-dede-4d7e-a147-e6f42785654e",
   "metadata": {},
   "outputs": [],
   "source": [
    "# Visualize the top 10 companies using a bar plot\n",
    "plt.figure(figsize=(12, 6))\n",
    "plt.bar(top_companies['Company'], top_companies['Number of Job Postings'])\n",
    "plt.title('Top 10 Companies by Number of Job Postings')\n",
    "plt.xlabel('Company')\n",
    "plt.ylabel('Number of Job Postings')\n",
    "plt.xticks(rotation=45, ha='right')\n",
    "plt.show()\n",
    "\n"
   ]
  },
  {
   "cell_type": "code",
   "execution_count": null,
   "id": "b2fa85cf-71ac-465a-a8ef-80bec1581aa6",
   "metadata": {},
   "outputs": [],
   "source": [
    "# Identify the top 10 job locations with the most job postings\n",
    "top_locations = df_cleaned['job_location'].value_counts().head(10).reset_index()\n",
    "top_locations.columns = ['Job Location', 'Number of Job Postings']\n",
    "\n"
   ]
  },
  {
   "cell_type": "code",
   "execution_count": null,
   "id": "8f8fee26-769f-4973-86f8-a86e9b94a7ef",
   "metadata": {},
   "outputs": [],
   "source": [
    "# Display the results in a table\n",
    "print(\"\\nTop 10 Job Locations with the Most Job Postings:\")\n",
    "print(top_locations.to_markdown(index=False, numalign=\"left\", stralign=\"left\"))\n"
   ]
  },
  {
   "cell_type": "code",
   "execution_count": null,
   "id": "4737a860-ac4c-4e4f-b1aa-cc24bbd7105d",
   "metadata": {},
   "outputs": [],
   "source": [
    "\n",
    "# Visualize the top 10 job locations using a bar plot\n",
    "plt.figure(figsize=(12, 6))\n",
    "plt.bar(top_locations['Job Location'], top_locations['Number of Job Postings'])\n",
    "plt.title('Top 10 Job Locations by Number of Job Postings')\n",
    "plt.xlabel('Job Location')\n",
    "plt.ylabel('Number of Job Postings')\n",
    "plt.xticks(rotation=45, ha='right')\n",
    "plt.show()\n",
    "\n"
   ]
  },
  {
   "cell_type": "code",
   "execution_count": null,
   "id": "8700721b-0ada-4c64-a300-fe985d0f266d",
   "metadata": {},
   "outputs": [],
   "source": [
    "# Show the distribution of `job_type` using a pie chart\n",
    "job_type_counts = df_cleaned['job_type'].value_counts()\n",
    "plt.figure(figsize=(8, 8))\n",
    "plt.pie(job_type_counts, labels=job_type_counts.index, autopct='%1.1f%%', startangle=140)\n",
    "plt.title('Distribution of Job Types')\n",
    "plt.axis('equal')  # Equal aspect ratio ensures that pie is drawn as a circle.\n",
    "plt.show()\n"
   ]
  },
  {
   "cell_type": "code",
   "execution_count": null,
   "id": "dcbb5686-8374-4f18-9fe4-c8905708bbb8",
   "metadata": {},
   "outputs": [],
   "source": [
    "\n",
    "# Show the distribution of `job level` using a pie chart\n",
    "job_level_counts = df_cleaned['job level'].value_counts()\n",
    "plt.figure(figsize=(8, 8))\n",
    "plt.pie(job_level_counts, labels=job_level_counts.index, autopct='%1.1f%%', startangle=140)\n",
    "plt.title('Distribution of Job Levels')\n",
    "plt.axis('equal')  # Equal aspect ratio ensures that pie is drawn as a circle.\n",
    "plt.show()\n"
   ]
  },
  {
   "cell_type": "code",
   "execution_count": null,
   "id": "100ad010-afc1-4628-a5b8-3d775d4e3e45",
   "metadata": {},
   "outputs": [],
   "source": [
    "\n",
    "\n",
    "# Skill Analysis\n",
    "\n",
    "# Calculate skill frequency and get top 20\n",
    "all_skills = [skill for sublist in df_cleaned['job_skills_agg'] for skill in sublist if isinstance(sublist, list)]\n",
    "skill_counts = Counter(all_skills)\n",
    "top_20_skills = skill_counts.most_common(20)\n"
   ]
  },
  {
   "cell_type": "code",
   "execution_count": null,
   "id": "411d10b7-180f-4e20-809c-51d6b7c3b258",
   "metadata": {},
   "outputs": [],
   "source": [
    "\n",
    "# Bar plot of top 20 skills\n",
    "plt.figure(figsize=(12, 6))\n",
    "plt.bar([skill[0] for skill in top_20_skills], [skill[1] for skill in top_20_skills])\n",
    "plt.title('Top 20 Most Frequent Skills')\n",
    "plt.xlabel('Skill')\n",
    "plt.ylabel('Frequency')\n",
    "plt.xticks(rotation=45, ha='right')\n",
    "plt.show()\n",
    "#This bar chart illustrates the top 20 most sought-after skills in the dataset, providing insights into the key qualifications employers are seeking.\n",
    "\n"
   ]
  },
  {
   "cell_type": "code",
   "execution_count": null,
   "id": "b2d05ac4-28d9-4e23-a0d6-68d0ca960acc",
   "metadata": {},
   "outputs": [],
   "source": [
    "# Job Title Analysis\n",
    "\n",
    "# Get top 20 job titles\n",
    "top_20_job_titles = df_cleaned['job_title'].value_counts().head(20)\n",
    "\n",
    "# Bar plot of top 20 job titles\n",
    "plt.figure(figsize=(12, 6))\n",
    "plt.bar(top_20_job_titles.index, top_20_job_titles.values)\n",
    "plt.title('Top 20 Most Frequent Job Titles')\n",
    "plt.xlabel('Job Title')\n",
    "plt.ylabel('Frequency')\n",
    "plt.xticks(rotation=45, ha='right')\n",
    "plt.show()\n",
    "#This bar chart displays the 20 most common job titles, shedding light on the prevalent roles in the job market.\n",
    "\n"
   ]
  },
  {
   "cell_type": "code",
   "execution_count": null,
   "id": "364006f3-e46a-406f-a228-182a77641fce",
   "metadata": {},
   "outputs": [],
   "source": [
    "# Company and Job Title Analysis\n",
    "\n",
    "# Get top 20 company-job title combinations\n",
    "top_20_company_job_title = df_cleaned.groupby(['company', 'job_title']).size().reset_index(name='counts').nlargest(20, 'counts')\n",
    "\n",
    "# Bar plot of top 20 company-job title combinations\n",
    "plt.figure(figsize=(12, 6))\n",
    "plt.bar(top_20_company_job_title.apply(lambda x: f\"{x['company']} - {x['job_title']}\", axis=1), top_20_company_job_title['counts'])\n",
    "plt.title('Top 20 Company-Job Title Combinations')\n",
    "plt.xlabel('Company - Job Title')\n",
    "plt.ylabel('Frequency')\n",
    "plt.xticks(rotation=45, ha='right')\n",
    "plt.show()\n",
    "#This bar chart reveals the top 20 combinations of companies and job titles, indicating which companies are hiring for specific roles.\n",
    "\n"
   ]
  },
  {
   "cell_type": "code",
   "execution_count": null,
   "id": "fd0167c3-1208-4533-aa10-84c935c3510c",
   "metadata": {},
   "outputs": [],
   "source": [
    "# Job Location Analysis (Excluding 'Not Specified')\n",
    "\n",
    "# Filter out 'not specified' locations\n",
    "df_filtered = df_cleaned[df_cleaned['job_location'] != 'not specified']\n",
    "\n",
    "# Get top 20 job locations\n",
    "top_20_job_locations = df_filtered['job_location'].value_counts().head(20)\n",
    "\n",
    "# Bar plot of top 20 job locations (excluding 'not specified')\n",
    "plt.figure(figsize=(12, 6))\n",
    "plt.bar(top_20_job_locations.index, top_20_job_locations.values)\n",
    "plt.title('Top 20 Most Frequent Job Locations (excluding \"not specified\")')\n",
    "plt.xlabel('Job Location')\n",
    "plt.ylabel('Frequency')\n",
    "plt.xticks(rotation=45, ha='right')\n",
    "plt.show()\n",
    "#This bar chart presents the 20 most common job locations, excluding those that are not specified, offering insights into geographic hiring trends.\n",
    "\n"
   ]
  },
  {
   "cell_type": "code",
   "execution_count": null,
   "id": "ecc47f39-7ef7-478d-a5b2-c1f1174241ef",
   "metadata": {},
   "outputs": [],
   "source": [
    "# Job Location Analysis (USA Only)\n",
    "\n",
    "# Filter for USA jobs\n",
    "df_usa = df_cleaned[df_cleaned['search_country'] == 'usa']\n",
    "\n",
    "# Get top 20 job locations in USA\n",
    "top_20_usa_job_locations = df_usa['job_location'].value_counts().head(20)\n",
    "\n",
    "# Bar plot of top 20 job locations in USA\n",
    "plt.figure(figsize=(12, 6))\n",
    "plt.bar(top_20_usa_job_locations.index, top_20_usa_job_locations.values)\n",
    "plt.title('Top 20 Most Frequent Job Locations in USA')\n",
    "plt.xlabel('Job Location')\n",
    "plt.ylabel('Frequency')\n",
    "plt.xticks(rotation=45, ha='right')\n",
    "plt.show()\n",
    "#This bar chart focuses on the 20 most frequent job locations within the USA, providing a more targeted view of hiring trends in the country.\n",
    "\n"
   ]
  },
  {
   "cell_type": "code",
   "execution_count": null,
   "id": "550717a3-82f0-4cea-b957-694a9cb50084",
   "metadata": {},
   "outputs": [],
   "source": [
    "# Number of Skills per Job Analysis\n",
    "\n",
    "# Calculate number of skills per job\n",
    "df_cleaned['num_skills'] = df_cleaned['job_skills_agg'].apply(len)\n",
    "\n",
    "# Histogram and box plot of number of skills\n",
    "fig, axes = plt.subplots(nrows=1, ncols=2, figsize=(14, 6), sharey=True)\n",
    "axes[0].hist(df_cleaned['num_skills'], bins=10, edgecolor='black')\n",
    "axes[0].set_title('Distribution of Number of Skills per Job')\n",
    "axes[0].set_xlabel('Number of Skills')\n",
    "axes[0].set_ylabel('Frequency')\n",
    "axes[1].boxplot(df_cleaned['num_skills'])\n",
    "axes[1].set_title('Box Plot of Number of Skills per Job')\n",
    "axes[1].set_xlabel('Number of Skills')\n",
    "plt.tight_layout()\n",
    "plt.show()\n",
    "#The histogram and box plot illustrate the distribution of the number of skills required per job, revealing the range and central tendency of skill requirements.\n"
   ]
  }
 ],
 "metadata": {
  "kernelspec": {
   "display_name": "Python 3 (ipykernel)",
   "language": "python",
   "name": "python3"
  },
  "language_info": {
   "codemirror_mode": {
    "name": "ipython",
    "version": 3
   },
   "file_extension": ".py",
   "mimetype": "text/x-python",
   "name": "python",
   "nbconvert_exporter": "python",
   "pygments_lexer": "ipython3",
   "version": "3.12.3"
  }
 },
 "nbformat": 4,
 "nbformat_minor": 5
}
